{
 "cells": [
  {
   "cell_type": "code",
   "execution_count": null,
   "metadata": {},
   "outputs": [],
   "source": [
    "# int\n",
    "# float\n",
    "# str\n"
   ]
  },
  {
   "cell_type": "code",
   "execution_count": 1,
   "metadata": {},
   "outputs": [
    {
     "name": "stdout",
     "output_type": "stream",
     "text": [
      "66\n",
      "<class 'int'>\n"
     ]
    }
   ],
   "source": [
    "marks = input('enter your marks:')\n",
    "marks = (int(marks))\n",
    "print(marks)\n",
    "print(type(marks))"
   ]
  },
  {
   "cell_type": "code",
   "execution_count": 8,
   "metadata": {},
   "outputs": [
    {
     "name": "stdout",
     "output_type": "stream",
     "text": [
      "you are failed\n",
      "welcome\n"
     ]
    }
   ],
   "source": [
    "marks =int(input('enter your marks:'))\n",
    "if marks >= 33:\n",
    "    print('you are passed')\n",
    "else:\n",
    "    print('you are failed')\n",
    "print('welcome')"
   ]
  },
  {
   "cell_type": "code",
   "execution_count": 13,
   "metadata": {},
   "outputs": [
    {
     "name": "stdout",
     "output_type": "stream",
     "text": [
      "pleasant day\n",
      "welcome\n"
     ]
    }
   ],
   "source": [
    "temp =int(input('enter your temperature:'))\n",
    "if temp >= 35:\n",
    "    print('hot day')\n",
    "elif temp >=20  and temp <= 35:\n",
    "    print('pleasant day')\n",
    "else:\n",
    "    print('cold day')\n",
    "print('welcome')"
   ]
  },
  {
   "cell_type": "code",
   "execution_count": null,
   "metadata": {},
   "outputs": [],
   "source": []
  }
 ],
 "metadata": {
  "kernelspec": {
   "display_name": "Python 3",
   "language": "python",
   "name": "python3"
  },
  "language_info": {
   "codemirror_mode": {
    "name": "ipython",
    "version": 3
   },
   "file_extension": ".py",
   "mimetype": "text/x-python",
   "name": "python",
   "nbconvert_exporter": "python",
   "pygments_lexer": "ipython3",
   "version": "3.12.4"
  }
 },
 "nbformat": 4,
 "nbformat_minor": 2
}
