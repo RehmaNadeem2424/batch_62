{
 "cells": [
  {
   "cell_type": "code",
   "execution_count": 1,
   "metadata": {},
   "outputs": [
    {
     "name": "stdout",
     "output_type": "stream",
     "text": [
      "the two values sum is 66\n"
     ]
    }
   ],
   "source": [
    "number1 = int(input(\"enter 1st number:\"))\n",
    "number2 = int(input(\"enter 2nd number:\"))\n",
    "sum = number1+number2\n",
    "print(f\"the two values sum is {sum}\")\n"
   ]
  },
  {
   "cell_type": "code",
   "execution_count": 1,
   "metadata": {},
   "outputs": [
    {
     "name": "stdout",
     "output_type": "stream",
     "text": [
      "my favourite animal is also rabbit\n"
     ]
    }
   ],
   "source": [
    "num1 = str(input(\"what is your favourite animal\"))\n",
    "print(f\"my favourite animal is also {num1}\")"
   ]
  },
  {
   "cell_type": "code",
   "execution_count": null,
   "metadata": {},
   "outputs": [],
   "source": [
    "temperature = float(input(\"enter temperature in fahrenheit\"))\n"
   ]
  },
  {
   "cell_type": "code",
   "execution_count": 7,
   "metadata": {},
   "outputs": [
    {
     "name": "stdout",
     "output_type": "stream",
     "text": [
      "what is the perimeter of the triangle 12.\n"
     ]
    }
   ],
   "source": [
    "lenght1 = int(input(\"what is the lenght of side1\"))\n",
    "lenght2 = int(input(\"what is the lenght of side2\"))\n",
    "lenght3 = int(input(\"what is the lenght of side3\"))\n",
    "sum = lenght1+lenght2+lenght3\n",
    "print(f\"what is the perimeter of the triangle {sum}.\")\n"
   ]
  },
  {
   "cell_type": "code",
   "execution_count": 3,
   "metadata": {},
   "outputs": [
    {
     "name": "stdout",
     "output_type": "stream",
     "text": [
      "[1, 2, 3, 4, 5]\n",
      "[1, 2, 4, 5]\n"
     ]
    }
   ],
   "source": [
    "number = [1,2,3,4,5]\n",
    "print(number)\n",
    "del number[2]\n",
    "print(number)\n"
   ]
  },
  {
   "cell_type": "code",
   "execution_count": 17,
   "metadata": {},
   "outputs": [
    {
     "name": "stdout",
     "output_type": "stream",
     "text": [
      "4.0 squared is 16.0\n"
     ]
    }
   ],
   "source": [
    "number = float(input(\"type the number to see its square\"))\n",
    "square = number **2\n",
    "print(f\"{number} squared is {square}\")\n"
   ]
  },
  {
   "cell_type": "code",
   "execution_count": 5,
   "metadata": {},
   "outputs": [
    {
     "name": "stdout",
     "output_type": "stream",
     "text": [
      "[1, 2, 3, '4 , 5'] [4, 5, 6, '7 , 8']\n"
     ]
    }
   ],
   "source": [
    "list1 = [1,2,3]\n",
    "list2 = [4,5,6]\n",
    "list1.append(\"4 , 5\")\n",
    "list2.append(\"7 , 8\")\n",
    "print(f\"{list1} {list2}\")"
   ]
  },
  {
   "cell_type": "code",
   "execution_count": 11,
   "metadata": {},
   "outputs": [
    {
     "name": "stdout",
     "output_type": "stream",
     "text": [
      "[10, 20, 30, 40]\n",
      "[10, 20, 30]\n"
     ]
    }
   ],
   "source": [
    "items = [10,20,30,40]\n",
    "print(items)\n",
    "items.pop()\n",
    "print(items)"
   ]
  },
  {
   "cell_type": "code",
   "execution_count": 13,
   "metadata": {},
   "outputs": [
    {
     "name": "stdout",
     "output_type": "stream",
     "text": [
      "green\n"
     ]
    }
   ],
   "source": [
    "colors = ['red' , 'black' , 'pink' , 'green']\n",
    "print(colors[3])"
   ]
  }
 ],
 "metadata": {
  "kernelspec": {
   "display_name": "Python 3",
   "language": "python",
   "name": "python3"
  },
  "language_info": {
   "codemirror_mode": {
    "name": "ipython",
    "version": 3
   },
   "file_extension": ".py",
   "mimetype": "text/x-python",
   "name": "python",
   "nbconvert_exporter": "python",
   "pygments_lexer": "ipython3",
   "version": "3.12.4"
  }
 },
 "nbformat": 4,
 "nbformat_minor": 2
}
