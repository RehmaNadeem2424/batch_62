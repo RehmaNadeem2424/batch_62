{
 "cells": [
  {
   "cell_type": "code",
   "execution_count": 1,
   "metadata": {},
   "outputs": [
    {
     "name": "stdout",
     "output_type": "stream",
     "text": [
      "the two values sum is 66\n"
     ]
    }
   ],
   "source": [
    "number1 = int(input(\"enter 1st number:\"))\n",
    "number2 = int(input(\"enter 2nd number:\"))\n",
    "sum = number1+number2\n",
    "print(f\"the two values sum is {sum}\")\n"
   ]
  },
  {
   "cell_type": "code",
   "execution_count": 1,
   "metadata": {},
   "outputs": [
    {
     "name": "stdout",
     "output_type": "stream",
     "text": [
      "my favourite animal is also rabbit\n"
     ]
    }
   ],
   "source": [
    "num1 = str(input(\"what is your favourite animal\"))\n",
    "print(f\"my favourite animal is also {num1}\")"
   ]
  },
  {
   "cell_type": "code",
   "execution_count": 7,
   "metadata": {},
   "outputs": [
    {
     "name": "stdout",
     "output_type": "stream",
     "text": [
      "what is the perimeter of the triangle 12.\n"
     ]
    }
   ],
   "source": [
    "lenght1 = int(input(\"what is the lenght of side1\"))\n",
    "lenght2 = int(input(\"what is the lenght of side2\"))\n",
    "lenght3 = int(input(\"what is the lenght of side3\"))\n",
    "sum = lenght1+lenght2+lenght3\n",
    "print(f\"what is the perimeter of the triangle {sum}.\")\n"
   ]
  },
  {
   "cell_type": "code",
   "execution_count": null,
   "metadata": {},
   "outputs": [],
   "source": []
  }
 ],
 "metadata": {
  "kernelspec": {
   "display_name": "Python 3",
   "language": "python",
   "name": "python3"
  },
  "language_info": {
   "codemirror_mode": {
    "name": "ipython",
    "version": 3
   },
   "file_extension": ".py",
   "mimetype": "text/x-python",
   "name": "python",
   "nbconvert_exporter": "python",
   "pygments_lexer": "ipython3",
   "version": "3.12.4"
  }
 },
 "nbformat": 4,
 "nbformat_minor": 2
}
